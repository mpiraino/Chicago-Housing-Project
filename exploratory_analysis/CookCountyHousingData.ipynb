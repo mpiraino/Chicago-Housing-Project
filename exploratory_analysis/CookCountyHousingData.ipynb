{
 "cells": [
  {
   "cell_type": "code",
   "execution_count": 1,
   "metadata": {},
   "outputs": [],
   "source": [
    "import pandas as pd"
   ]
  },
  {
   "cell_type": "code",
   "execution_count": 2,
   "metadata": {},
   "outputs": [],
   "source": [
    "data = pd.read_csv(\"../data/CookCountyHomeSales.csv\")"
   ]
  },
  {
   "cell_type": "code",
   "execution_count": 3,
   "metadata": {},
   "outputs": [
    {
     "data": {
      "text/html": [
       "<div>\n",
       "<style scoped>\n",
       "    .dataframe tbody tr th:only-of-type {\n",
       "        vertical-align: middle;\n",
       "    }\n",
       "\n",
       "    .dataframe tbody tr th {\n",
       "        vertical-align: top;\n",
       "    }\n",
       "\n",
       "    .dataframe thead th {\n",
       "        text-align: right;\n",
       "    }\n",
       "</style>\n",
       "<table border=\"1\" class=\"dataframe\">\n",
       "  <thead>\n",
       "    <tr style=\"text-align: right;\">\n",
       "      <th></th>\n",
       "      <th>PIN</th>\n",
       "      <th>Property Class</th>\n",
       "      <th>Neighborhood Code</th>\n",
       "      <th>Land Square Feet</th>\n",
       "      <th>Town Code</th>\n",
       "      <th>Type of Residence</th>\n",
       "      <th>Apartments</th>\n",
       "      <th>Wall Material</th>\n",
       "      <th>Roof Material</th>\n",
       "      <th>Rooms</th>\n",
       "      <th>...</th>\n",
       "      <th>Age Decade Squared</th>\n",
       "      <th>Lot Size Squared</th>\n",
       "      <th>Improvement Size Squared</th>\n",
       "      <th>Pure Market Filter</th>\n",
       "      <th>Garage Indicator</th>\n",
       "      <th>Neigborhood Code (mapping)</th>\n",
       "      <th>Square root of lot size</th>\n",
       "      <th>Square root of age</th>\n",
       "      <th>Square root of improvement size</th>\n",
       "      <th>Town and Neighborhood</th>\n",
       "    </tr>\n",
       "  </thead>\n",
       "  <tbody>\n",
       "    <tr>\n",
       "      <th>0</th>\n",
       "      <td>17273100931118</td>\n",
       "      <td>299</td>\n",
       "      <td>40</td>\n",
       "      <td>365398.0</td>\n",
       "      <td>76</td>\n",
       "      <td>NaN</td>\n",
       "      <td>NaN</td>\n",
       "      <td>NaN</td>\n",
       "      <td>NaN</td>\n",
       "      <td>NaN</td>\n",
       "      <td>...</td>\n",
       "      <td>19.36</td>\n",
       "      <td>1.335157e+11</td>\n",
       "      <td>NaN</td>\n",
       "      <td>1</td>\n",
       "      <td>NaN</td>\n",
       "      <td>40</td>\n",
       "      <td>604.481596</td>\n",
       "      <td>6.633250</td>\n",
       "      <td>NaN</td>\n",
       "      <td>7640</td>\n",
       "    </tr>\n",
       "    <tr>\n",
       "      <th>1</th>\n",
       "      <td>18013090421010</td>\n",
       "      <td>299</td>\n",
       "      <td>52</td>\n",
       "      <td>19551.0</td>\n",
       "      <td>21</td>\n",
       "      <td>NaN</td>\n",
       "      <td>NaN</td>\n",
       "      <td>NaN</td>\n",
       "      <td>NaN</td>\n",
       "      <td>NaN</td>\n",
       "      <td>...</td>\n",
       "      <td>32.49</td>\n",
       "      <td>3.822416e+08</td>\n",
       "      <td>NaN</td>\n",
       "      <td>1</td>\n",
       "      <td>NaN</td>\n",
       "      <td>52</td>\n",
       "      <td>139.824890</td>\n",
       "      <td>7.549834</td>\n",
       "      <td>NaN</td>\n",
       "      <td>2152</td>\n",
       "    </tr>\n",
       "    <tr>\n",
       "      <th>2</th>\n",
       "      <td>16094150130000</td>\n",
       "      <td>211</td>\n",
       "      <td>13</td>\n",
       "      <td>4500.0</td>\n",
       "      <td>77</td>\n",
       "      <td>3.0</td>\n",
       "      <td>6.0</td>\n",
       "      <td>2.0</td>\n",
       "      <td>2.0</td>\n",
       "      <td>24.0</td>\n",
       "      <td>...</td>\n",
       "      <td>75.69</td>\n",
       "      <td>2.025000e+07</td>\n",
       "      <td>55279225.0</td>\n",
       "      <td>1</td>\n",
       "      <td>1.0</td>\n",
       "      <td>13</td>\n",
       "      <td>67.082039</td>\n",
       "      <td>9.327379</td>\n",
       "      <td>86.226446</td>\n",
       "      <td>7713</td>\n",
       "    </tr>\n",
       "    <tr>\n",
       "      <th>3</th>\n",
       "      <td>12253140491007</td>\n",
       "      <td>299</td>\n",
       "      <td>80</td>\n",
       "      <td>12148.0</td>\n",
       "      <td>20</td>\n",
       "      <td>NaN</td>\n",
       "      <td>NaN</td>\n",
       "      <td>NaN</td>\n",
       "      <td>NaN</td>\n",
       "      <td>NaN</td>\n",
       "      <td>...</td>\n",
       "      <td>6.76</td>\n",
       "      <td>1.475739e+08</td>\n",
       "      <td>NaN</td>\n",
       "      <td>1</td>\n",
       "      <td>NaN</td>\n",
       "      <td>80</td>\n",
       "      <td>110.217966</td>\n",
       "      <td>5.099020</td>\n",
       "      <td>NaN</td>\n",
       "      <td>2080</td>\n",
       "    </tr>\n",
       "    <tr>\n",
       "      <th>4</th>\n",
       "      <td>12111190201042</td>\n",
       "      <td>299</td>\n",
       "      <td>390</td>\n",
       "      <td>48470.0</td>\n",
       "      <td>71</td>\n",
       "      <td>NaN</td>\n",
       "      <td>NaN</td>\n",
       "      <td>NaN</td>\n",
       "      <td>NaN</td>\n",
       "      <td>NaN</td>\n",
       "      <td>...</td>\n",
       "      <td>20.25</td>\n",
       "      <td>2.349341e+09</td>\n",
       "      <td>NaN</td>\n",
       "      <td>1</td>\n",
       "      <td>NaN</td>\n",
       "      <td>390</td>\n",
       "      <td>220.159033</td>\n",
       "      <td>6.708204</td>\n",
       "      <td>NaN</td>\n",
       "      <td>71390</td>\n",
       "    </tr>\n",
       "    <tr>\n",
       "      <th>...</th>\n",
       "      <td>...</td>\n",
       "      <td>...</td>\n",
       "      <td>...</td>\n",
       "      <td>...</td>\n",
       "      <td>...</td>\n",
       "      <td>...</td>\n",
       "      <td>...</td>\n",
       "      <td>...</td>\n",
       "      <td>...</td>\n",
       "      <td>...</td>\n",
       "      <td>...</td>\n",
       "      <td>...</td>\n",
       "      <td>...</td>\n",
       "      <td>...</td>\n",
       "      <td>...</td>\n",
       "      <td>...</td>\n",
       "      <td>...</td>\n",
       "      <td>...</td>\n",
       "      <td>...</td>\n",
       "      <td>...</td>\n",
       "      <td>...</td>\n",
       "    </tr>\n",
       "    <tr>\n",
       "      <th>583365</th>\n",
       "      <td>9103010721146</td>\n",
       "      <td>299</td>\n",
       "      <td>50</td>\n",
       "      <td>312580.0</td>\n",
       "      <td>22</td>\n",
       "      <td>NaN</td>\n",
       "      <td>NaN</td>\n",
       "      <td>NaN</td>\n",
       "      <td>NaN</td>\n",
       "      <td>NaN</td>\n",
       "      <td>...</td>\n",
       "      <td>16.00</td>\n",
       "      <td>9.770626e+10</td>\n",
       "      <td>NaN</td>\n",
       "      <td>1</td>\n",
       "      <td>NaN</td>\n",
       "      <td>50</td>\n",
       "      <td>559.088544</td>\n",
       "      <td>6.324555</td>\n",
       "      <td>NaN</td>\n",
       "      <td>2250</td>\n",
       "    </tr>\n",
       "    <tr>\n",
       "      <th>583366</th>\n",
       "      <td>20021110150000</td>\n",
       "      <td>205</td>\n",
       "      <td>10</td>\n",
       "      <td>2750.0</td>\n",
       "      <td>70</td>\n",
       "      <td>2.0</td>\n",
       "      <td>0.0</td>\n",
       "      <td>2.0</td>\n",
       "      <td>1.0</td>\n",
       "      <td>10.0</td>\n",
       "      <td>...</td>\n",
       "      <td>144.00</td>\n",
       "      <td>7.562500e+06</td>\n",
       "      <td>4588164.0</td>\n",
       "      <td>1</td>\n",
       "      <td>0.0</td>\n",
       "      <td>10</td>\n",
       "      <td>52.440442</td>\n",
       "      <td>10.954451</td>\n",
       "      <td>46.281746</td>\n",
       "      <td>7010</td>\n",
       "    </tr>\n",
       "    <tr>\n",
       "      <th>583367</th>\n",
       "      <td>20021110150000</td>\n",
       "      <td>205</td>\n",
       "      <td>10</td>\n",
       "      <td>2750.0</td>\n",
       "      <td>70</td>\n",
       "      <td>2.0</td>\n",
       "      <td>0.0</td>\n",
       "      <td>2.0</td>\n",
       "      <td>1.0</td>\n",
       "      <td>10.0</td>\n",
       "      <td>...</td>\n",
       "      <td>144.00</td>\n",
       "      <td>7.562500e+06</td>\n",
       "      <td>4588164.0</td>\n",
       "      <td>1</td>\n",
       "      <td>0.0</td>\n",
       "      <td>10</td>\n",
       "      <td>52.440442</td>\n",
       "      <td>10.954451</td>\n",
       "      <td>46.281746</td>\n",
       "      <td>7010</td>\n",
       "    </tr>\n",
       "    <tr>\n",
       "      <th>583368</th>\n",
       "      <td>14302231400000</td>\n",
       "      <td>278</td>\n",
       "      <td>200</td>\n",
       "      <td>3068.0</td>\n",
       "      <td>73</td>\n",
       "      <td>3.0</td>\n",
       "      <td>0.0</td>\n",
       "      <td>2.0</td>\n",
       "      <td>2.0</td>\n",
       "      <td>12.0</td>\n",
       "      <td>...</td>\n",
       "      <td>1.69</td>\n",
       "      <td>9.412624e+06</td>\n",
       "      <td>10400625.0</td>\n",
       "      <td>0</td>\n",
       "      <td>1.0</td>\n",
       "      <td>200</td>\n",
       "      <td>55.389530</td>\n",
       "      <td>3.605551</td>\n",
       "      <td>56.789083</td>\n",
       "      <td>73200</td>\n",
       "    </tr>\n",
       "    <tr>\n",
       "      <th>583369</th>\n",
       "      <td>11303160171006</td>\n",
       "      <td>299</td>\n",
       "      <td>31</td>\n",
       "      <td>6000.0</td>\n",
       "      <td>75</td>\n",
       "      <td>NaN</td>\n",
       "      <td>NaN</td>\n",
       "      <td>NaN</td>\n",
       "      <td>NaN</td>\n",
       "      <td>NaN</td>\n",
       "      <td>...</td>\n",
       "      <td>75.69</td>\n",
       "      <td>3.600000e+07</td>\n",
       "      <td>NaN</td>\n",
       "      <td>1</td>\n",
       "      <td>NaN</td>\n",
       "      <td>31</td>\n",
       "      <td>77.459667</td>\n",
       "      <td>9.327379</td>\n",
       "      <td>NaN</td>\n",
       "      <td>7531</td>\n",
       "    </tr>\n",
       "  </tbody>\n",
       "</table>\n",
       "<p>583370 rows × 83 columns</p>\n",
       "</div>"
      ],
      "text/plain": [
       "                   PIN  Property Class  Neighborhood Code  Land Square Feet  \\\n",
       "0       17273100931118             299                 40          365398.0   \n",
       "1       18013090421010             299                 52           19551.0   \n",
       "2       16094150130000             211                 13            4500.0   \n",
       "3       12253140491007             299                 80           12148.0   \n",
       "4       12111190201042             299                390           48470.0   \n",
       "...                ...             ...                ...               ...   \n",
       "583365   9103010721146             299                 50          312580.0   \n",
       "583366  20021110150000             205                 10            2750.0   \n",
       "583367  20021110150000             205                 10            2750.0   \n",
       "583368  14302231400000             278                200            3068.0   \n",
       "583369  11303160171006             299                 31            6000.0   \n",
       "\n",
       "        Town Code  Type of Residence  Apartments  Wall Material  \\\n",
       "0              76                NaN         NaN            NaN   \n",
       "1              21                NaN         NaN            NaN   \n",
       "2              77                3.0         6.0            2.0   \n",
       "3              20                NaN         NaN            NaN   \n",
       "4              71                NaN         NaN            NaN   \n",
       "...           ...                ...         ...            ...   \n",
       "583365         22                NaN         NaN            NaN   \n",
       "583366         70                2.0         0.0            2.0   \n",
       "583367         70                2.0         0.0            2.0   \n",
       "583368         73                3.0         0.0            2.0   \n",
       "583369         75                NaN         NaN            NaN   \n",
       "\n",
       "        Roof Material  Rooms  ...  Age Decade Squared  Lot Size Squared  \\\n",
       "0                 NaN    NaN  ...               19.36      1.335157e+11   \n",
       "1                 NaN    NaN  ...               32.49      3.822416e+08   \n",
       "2                 2.0   24.0  ...               75.69      2.025000e+07   \n",
       "3                 NaN    NaN  ...                6.76      1.475739e+08   \n",
       "4                 NaN    NaN  ...               20.25      2.349341e+09   \n",
       "...               ...    ...  ...                 ...               ...   \n",
       "583365            NaN    NaN  ...               16.00      9.770626e+10   \n",
       "583366            1.0   10.0  ...              144.00      7.562500e+06   \n",
       "583367            1.0   10.0  ...              144.00      7.562500e+06   \n",
       "583368            2.0   12.0  ...                1.69      9.412624e+06   \n",
       "583369            NaN    NaN  ...               75.69      3.600000e+07   \n",
       "\n",
       "        Improvement Size Squared  Pure Market Filter  Garage Indicator  \\\n",
       "0                            NaN                   1               NaN   \n",
       "1                            NaN                   1               NaN   \n",
       "2                     55279225.0                   1               1.0   \n",
       "3                            NaN                   1               NaN   \n",
       "4                            NaN                   1               NaN   \n",
       "...                          ...                 ...               ...   \n",
       "583365                       NaN                   1               NaN   \n",
       "583366                 4588164.0                   1               0.0   \n",
       "583367                 4588164.0                   1               0.0   \n",
       "583368                10400625.0                   0               1.0   \n",
       "583369                       NaN                   1               NaN   \n",
       "\n",
       "        Neigborhood Code (mapping)  Square root of lot size  \\\n",
       "0                               40               604.481596   \n",
       "1                               52               139.824890   \n",
       "2                               13                67.082039   \n",
       "3                               80               110.217966   \n",
       "4                              390               220.159033   \n",
       "...                            ...                      ...   \n",
       "583365                          50               559.088544   \n",
       "583366                          10                52.440442   \n",
       "583367                          10                52.440442   \n",
       "583368                         200                55.389530   \n",
       "583369                          31                77.459667   \n",
       "\n",
       "        Square root of age  Square root of improvement size  \\\n",
       "0                 6.633250                              NaN   \n",
       "1                 7.549834                              NaN   \n",
       "2                 9.327379                        86.226446   \n",
       "3                 5.099020                              NaN   \n",
       "4                 6.708204                              NaN   \n",
       "...                    ...                              ...   \n",
       "583365            6.324555                              NaN   \n",
       "583366           10.954451                        46.281746   \n",
       "583367           10.954451                        46.281746   \n",
       "583368            3.605551                        56.789083   \n",
       "583369            9.327379                              NaN   \n",
       "\n",
       "        Town and Neighborhood  \n",
       "0                        7640  \n",
       "1                        2152  \n",
       "2                        7713  \n",
       "3                        2080  \n",
       "4                       71390  \n",
       "...                       ...  \n",
       "583365                   2250  \n",
       "583366                   7010  \n",
       "583367                   7010  \n",
       "583368                  73200  \n",
       "583369                   7531  \n",
       "\n",
       "[583370 rows x 83 columns]"
      ]
     },
     "execution_count": 3,
     "metadata": {},
     "output_type": "execute_result"
    }
   ],
   "source": [
    "data"
   ]
  },
  {
   "cell_type": "code",
   "execution_count": 4,
   "metadata": {},
   "outputs": [
    {
     "data": {
      "text/plain": [
       "Index(['PIN', 'Property Class', 'Neighborhood Code', 'Land Square Feet',\n",
       "       'Town Code', 'Type of Residence', 'Apartments', 'Wall Material',\n",
       "       'Roof Material', 'Rooms', 'Bedrooms', 'Basement', 'Basement Finish',\n",
       "       'Central Heating', 'Other Heating', 'Central Air', 'Fireplaces',\n",
       "       'Attic Type', 'Attic Finish', 'Half Baths', 'Design Plan',\n",
       "       'Cathedral Ceiling', 'Construction Quality', 'Renovation',\n",
       "       'Site Desirability', 'Garage 1 Size', 'Garage 1 Material',\n",
       "       'Garage 1 Attachment', 'Garage 1 Area', 'Garage 2 Size',\n",
       "       'Garage 2 Material', 'Garage 2 Attachment', 'Garage 2 Area', 'Porch',\n",
       "       'Other Improvements', 'Building Square Feet', 'Repair Condition',\n",
       "       'Multi Code', 'Number of Commercial Units', 'Estimate (Land)',\n",
       "       'Estimate (Building)', 'Sale Date', 'Deed No.', 'Sale Price',\n",
       "       'Longitude', 'Latitude', 'Census Tract', 'Total Building Square Feet',\n",
       "       'Multi Property Indicator', 'Property Address', 'Modeling Group',\n",
       "       'Full Baths', 'Age', 'Use', 'Number of Units', 'Percent Ownership',\n",
       "       'Condo Class Factor', 'Multi-Family Indicator', 'Large Lot',\n",
       "       'Condition, Desirability and Utility', 'O'Hare Noise', 'Floodplain',\n",
       "       'Road Proximity', 'Condo Strata', 'Sale Year', 'Sale Quarter',\n",
       "       'Sale Half-Year', 'Sale Quarter of Year', 'Sale Month of Year',\n",
       "       'Sale Half of Year', 'Most Recent Sale', 'Age Squared', 'Age Decade',\n",
       "       'Age Decade Squared', 'Lot Size Squared', 'Improvement Size Squared',\n",
       "       'Pure Market Filter', 'Garage Indicator', 'Neigborhood Code (mapping)',\n",
       "       'Square root of lot size', 'Square root of age',\n",
       "       'Square root of improvement size', 'Town and Neighborhood'],\n",
       "      dtype='object')"
      ]
     },
     "execution_count": 4,
     "metadata": {},
     "output_type": "execute_result"
    }
   ],
   "source": [
    "data.columns"
   ]
  },
  {
   "cell_type": "code",
   "execution_count": 5,
   "metadata": {},
   "outputs": [
    {
     "data": {
      "text/plain": [
       "0          40\n",
       "1          52\n",
       "2          13\n",
       "3          80\n",
       "4         390\n",
       "         ... \n",
       "583365     50\n",
       "583366     10\n",
       "583367     10\n",
       "583368    200\n",
       "583369     31\n",
       "Name: Neigborhood Code (mapping), Length: 583370, dtype: int64"
      ]
     },
     "execution_count": 5,
     "metadata": {},
     "output_type": "execute_result"
    }
   ],
   "source": [
    "data['Neigborhood Code (mapping)']"
   ]
  },
  {
   "cell_type": "code",
   "execution_count": 6,
   "metadata": {},
   "outputs": [
    {
     "data": {
      "text/plain": [
       "197"
      ]
     },
     "execution_count": 6,
     "metadata": {},
     "output_type": "execute_result"
    }
   ],
   "source": [
    "data[\"Neighborhood Code\"].nunique()"
   ]
  },
  {
   "cell_type": "code",
   "execution_count": 7,
   "metadata": {},
   "outputs": [
    {
     "data": {
      "text/plain": [
       "array([ 40,  52,  13,  80, 390, 100,  72, 402,  12,  34,  21,  42,  30,\n",
       "        90,  81, 141,  70,  50,  82,  53, 142, 440, 345, 330, 271,  10,\n",
       "       111,  91, 101, 282,  11, 120, 310, 430,  31, 200, 180, 321, 171,\n",
       "        22,  33,  63,  62,  93, 150, 270,  32,  51, 260,  85, 423,  20,\n",
       "        92,  15, 102, 151,  67, 165,  44, 211,  84,  88, 380,  43,  94,\n",
       "       420,  71, 461, 132, 210, 314, 110, 191,  60,  14,  41, 221,  36,\n",
       "       130, 109, 320, 181, 240, 160, 371, 112, 300, 220, 162,  23, 103,\n",
       "       362, 121, 361,  83, 170, 422, 251, 115,  74, 410,  19, 114, 131,\n",
       "        65,  55, 161, 280, 193, 185,  54, 223, 140,  73, 194,  39, 281,\n",
       "       190, 212,  61, 143, 350, 312, 222,  56, 116, 250, 463, 520,  46,\n",
       "        24, 226,  47, 104, 323, 152, 230, 600, 122,  35, 174, 431, 293,\n",
       "        27, 360, 274, 560, 340, 183,  25, 316, 164, 133, 192,  45, 108,\n",
       "        87,  75, 262, 163,  99,  64, 105, 241, 107, 166, 224, 201, 232,\n",
       "        96, 175, 113, 134, 182,  26, 173, 255,  18, 341,  37, 117, 227,\n",
       "       432, 400, 342,  86, 290,  48, 257, 315, 344, 106,  95, 580, 145,\n",
       "        38, 275], dtype=int64)"
      ]
     },
     "execution_count": 7,
     "metadata": {},
     "output_type": "execute_result"
    }
   ],
   "source": [
    "data[\"Neighborhood Code\"].unique()"
   ]
  },
  {
   "cell_type": "code",
   "execution_count": 8,
   "metadata": {},
   "outputs": [
    {
     "data": {
      "text/plain": [
       "1311"
      ]
     },
     "execution_count": 8,
     "metadata": {},
     "output_type": "execute_result"
    }
   ],
   "source": [
    "data['Census Tract'].nunique()"
   ]
  },
  {
   "cell_type": "code",
   "execution_count": 9,
   "metadata": {},
   "outputs": [
    {
     "data": {
      "text/plain": [
       "array([ 40,  52,  13,  80, 390, 100,  72, 402,  12,  34,  21,  42,  30,\n",
       "        90,  81, 141,  70,  50,  82,  53, 142, 440, 345, 330, 271,  10,\n",
       "       111,  91, 101, 282,  11, 120, 310, 430,  31, 200, 180, 321, 171,\n",
       "        22,  33,  63,  62,  93, 150, 270,  32,  51, 260,  85, 423,  20,\n",
       "        92,  15, 102, 151,  67, 165,  44, 211,  84,  88, 380,  43,  94,\n",
       "       420,  71, 461, 132, 210, 314, 110, 191,  60,  14,  41, 221,  36,\n",
       "       130, 109, 320, 181, 240, 160, 371, 112, 300, 220, 162,  23, 103,\n",
       "       362, 121, 361,  83, 170, 422, 251, 115,  74, 410,  19, 114, 131,\n",
       "        65,  55, 161, 280, 193, 185,  54, 223, 140,  73, 194,  39, 281,\n",
       "       190, 212,  61, 143, 350, 312, 222,  56, 116, 250, 463, 520,  46,\n",
       "        24, 226,  47, 104, 323, 152, 230, 600, 122,  35, 174, 431, 293,\n",
       "        27, 360, 274, 560, 340, 183,  25, 316, 164, 133, 192,  45, 108,\n",
       "        87,  75, 262, 163,  99,  64, 105, 241, 107, 166, 224, 201, 232,\n",
       "        96, 175, 113, 134, 182,  26, 173, 255,  18, 341,  37, 117, 227,\n",
       "       432, 400, 342,  86, 290,  48, 257, 315, 344, 106,  95, 580, 145,\n",
       "        38, 275], dtype=int64)"
      ]
     },
     "execution_count": 9,
     "metadata": {},
     "output_type": "execute_result"
    }
   ],
   "source": [
    "data['Neigborhood Code (mapping)'].unique()"
   ]
  },
  {
   "cell_type": "code",
   "execution_count": 10,
   "metadata": {},
   "outputs": [
    {
     "data": {
      "text/plain": [
       "850"
      ]
     },
     "execution_count": 10,
     "metadata": {},
     "output_type": "execute_result"
    }
   ],
   "source": [
    "data['Town and Neighborhood'].nunique()"
   ]
  },
  {
   "cell_type": "code",
   "execution_count": 11,
   "metadata": {},
   "outputs": [
    {
     "data": {
      "text/plain": [
       "Census Tract\n",
       "10100.0     310\n",
       "10201.0     635\n",
       "10202.0     195\n",
       "10300.0     592\n",
       "10400.0     279\n",
       "           ... \n",
       "843600.0    320\n",
       "843700.0    416\n",
       "843800.0    209\n",
       "843900.0    377\n",
       "864520.0      1\n",
       "Name: PIN, Length: 1311, dtype: int64"
      ]
     },
     "execution_count": 11,
     "metadata": {},
     "output_type": "execute_result"
    }
   ],
   "source": [
    "data.groupby(['Census Tract']).count()[\"PIN\"]"
   ]
  },
  {
   "cell_type": "code",
   "execution_count": 1,
   "metadata": {},
   "outputs": [],
   "source": [
    "import neighborhoodize\n",
    "\n",
    "# TODO: read these from a file so more neighborhoods can be tested\n",
    "known_chicago_pairs = {\n",
    "    (41.925495, -87.705847): ['Logan Square'],\n",
    "    (41.927299, -87.646270): ['Lincoln Park']\n",
    "}\n",
    "\n",
    "known_zillow_nyc_pairs = {\n",
    "    (40.709467, -73.962600): ['Williamsburg'],\n",
    "    (40.786330, -73.975881): ['Upper West Side'],\n",
    "    (40.668329, -73.977553): ['Park Slope']\n",
    "}\n",
    "\n",
    "known_city_nyc_pairs = {\n",
    "    (40.709467, -73.962600): ['North Side-South Side'],\n",
    "    (40.786330, -73.975881): ['Upper West Side'],\n",
    "    (40.668329, -73.977553): ['Park Slope-Gowanus']\n",
    "}\n",
    "\n",
    "def test_chicago_city():\n",
    "    params = neighborhoodize.city_of_chicago.NEIGHBORHOODS\n",
    "    chicago_map = neighborhoodize.NeighborhoodMap(params)\n",
    "\n",
    "    for (lat, lng), answer in known_chicago_pairs.items():\n",
    "        assert chicago_map.get_neighborhoods(lat, lng) == answer\n",
    "\n",
    "def test_nyc_city():\n",
    "    params = neighborhoodize.nyc.NEIGHBORHOOD_TABULATION_AREAS\n",
    "    nyc_map = neighborhoodize.NeighborhoodMap(params)\n",
    "\n",
    "    for (lat, lng), answer in known_city_nyc_pairs.items():\n",
    "        assert nyc_map.get_neighborhoods(lat, lng) == answer\n",
    "\n",
    "def test_chicago_zillow():\n",
    "    params = neighborhoodize.zillow.ILLINOIS\n",
    "    chicago_map = neighborhoodize.NeighborhoodMap(params)\n",
    "\n",
    "    for (lat, lng), answer in known_chicago_pairs.items():\n",
    "        assert chicago_map.get_neighborhoods(lat, lng) == answer\n",
    "\n",
    "\n",
    "def test_nyc_zillow():\n",
    "    params = neighborhoodize.zillow.NEW_YORK\n",
    "    nyc_map = neighborhoodize.NeighborhoodMap(params)\n",
    "\n",
    "    for (lat, lng), answer in known_zillow_nyc_pairs.items():\n",
    "        assert nyc_map.get_neighborhoods(lat, lng) == answer"
   ]
  },
  {
   "cell_type": "code",
   "execution_count": 5,
   "metadata": {},
   "outputs": [
    {
     "ename": "ValueError",
     "evalue": "Unicode strings with encoding declaration are not supported. Please use bytes input or XML fragments without declaration.",
     "output_type": "error",
     "traceback": [
      "\u001b[1;31m---------------------------------------------------------------------------\u001b[0m",
      "\u001b[1;31mValueError\u001b[0m                                Traceback (most recent call last)",
      "\u001b[1;32m<ipython-input-5-19a9df255e46>\u001b[0m in \u001b[0;36m<module>\u001b[1;34m\u001b[0m\n\u001b[1;32m----> 1\u001b[1;33m \u001b[0mtest_chicago_city\u001b[0m\u001b[1;33m(\u001b[0m\u001b[1;33m)\u001b[0m\u001b[1;33m\u001b[0m\u001b[1;33m\u001b[0m\u001b[0m\n\u001b[0m",
      "\u001b[1;32m<ipython-input-1-84020b680bbb>\u001b[0m in \u001b[0;36mtest_chicago_city\u001b[1;34m()\u001b[0m\n\u001b[0;32m     21\u001b[0m \u001b[1;32mdef\u001b[0m \u001b[0mtest_chicago_city\u001b[0m\u001b[1;33m(\u001b[0m\u001b[1;33m)\u001b[0m\u001b[1;33m:\u001b[0m\u001b[1;33m\u001b[0m\u001b[1;33m\u001b[0m\u001b[0m\n\u001b[0;32m     22\u001b[0m     \u001b[0mparams\u001b[0m \u001b[1;33m=\u001b[0m \u001b[0mneighborhoodize\u001b[0m\u001b[1;33m.\u001b[0m\u001b[0mcity_of_chicago\u001b[0m\u001b[1;33m.\u001b[0m\u001b[0mNEIGHBORHOODS\u001b[0m\u001b[1;33m\u001b[0m\u001b[1;33m\u001b[0m\u001b[0m\n\u001b[1;32m---> 23\u001b[1;33m     \u001b[0mchicago_map\u001b[0m \u001b[1;33m=\u001b[0m \u001b[0mneighborhoodize\u001b[0m\u001b[1;33m.\u001b[0m\u001b[0mNeighborhoodMap\u001b[0m\u001b[1;33m(\u001b[0m\u001b[0mparams\u001b[0m\u001b[1;33m)\u001b[0m\u001b[1;33m\u001b[0m\u001b[1;33m\u001b[0m\u001b[0m\n\u001b[0m\u001b[0;32m     24\u001b[0m \u001b[1;33m\u001b[0m\u001b[0m\n\u001b[0;32m     25\u001b[0m     \u001b[1;32mfor\u001b[0m \u001b[1;33m(\u001b[0m\u001b[0mlat\u001b[0m\u001b[1;33m,\u001b[0m \u001b[0mlng\u001b[0m\u001b[1;33m)\u001b[0m\u001b[1;33m,\u001b[0m \u001b[0manswer\u001b[0m \u001b[1;32min\u001b[0m \u001b[0mknown_chicago_pairs\u001b[0m\u001b[1;33m.\u001b[0m\u001b[0mitems\u001b[0m\u001b[1;33m(\u001b[0m\u001b[1;33m)\u001b[0m\u001b[1;33m:\u001b[0m\u001b[1;33m\u001b[0m\u001b[1;33m\u001b[0m\u001b[0m\n",
      "\u001b[1;32m~\\anaconda3\\lib\\site-packages\\neighborhoodize\\common.py\u001b[0m in \u001b[0;36m__init__\u001b[1;34m(self, arg_tuple)\u001b[0m\n\u001b[0;32m     24\u001b[0m         \u001b[0mmap_name\u001b[0m\u001b[1;33m,\u001b[0m \u001b[0mfilepath\u001b[0m\u001b[1;33m,\u001b[0m \u001b[0mparser_fn\u001b[0m \u001b[1;33m=\u001b[0m \u001b[0marg_tuple\u001b[0m\u001b[1;33m\u001b[0m\u001b[1;33m\u001b[0m\u001b[0m\n\u001b[0;32m     25\u001b[0m         \u001b[0mself\u001b[0m\u001b[1;33m.\u001b[0m\u001b[0mname\u001b[0m \u001b[1;33m=\u001b[0m \u001b[0mmap_name\u001b[0m\u001b[1;33m\u001b[0m\u001b[1;33m\u001b[0m\u001b[0m\n\u001b[1;32m---> 26\u001b[1;33m         \u001b[0mself\u001b[0m\u001b[1;33m.\u001b[0m\u001b[0mneighborhoods\u001b[0m \u001b[1;33m=\u001b[0m \u001b[0mparser_fn\u001b[0m\u001b[1;33m(\u001b[0m\u001b[0mfilepath\u001b[0m\u001b[1;33m)\u001b[0m\u001b[1;33m\u001b[0m\u001b[1;33m\u001b[0m\u001b[0m\n\u001b[0m\u001b[0;32m     27\u001b[0m \u001b[1;33m\u001b[0m\u001b[0m\n\u001b[0;32m     28\u001b[0m \u001b[1;33m\u001b[0m\u001b[0m\n",
      "\u001b[1;32m~\\anaconda3\\lib\\site-packages\\neighborhoodize\\kml_parsers.py\u001b[0m in \u001b[0;36mread_neighborhood_kml\u001b[1;34m(filename)\u001b[0m\n\u001b[0;32m     21\u001b[0m         \u001b[1;32mwith\u001b[0m \u001b[0mopen\u001b[0m\u001b[1;33m(\u001b[0m\u001b[0mfilename\u001b[0m\u001b[1;33m)\u001b[0m \u001b[1;32mas\u001b[0m \u001b[0mkml_file\u001b[0m\u001b[1;33m:\u001b[0m\u001b[1;33m\u001b[0m\u001b[1;33m\u001b[0m\u001b[0m\n\u001b[0;32m     22\u001b[0m             \u001b[0mkml_obj\u001b[0m \u001b[1;33m=\u001b[0m \u001b[0mkml\u001b[0m\u001b[1;33m.\u001b[0m\u001b[0mKML\u001b[0m\u001b[1;33m(\u001b[0m\u001b[1;33m)\u001b[0m\u001b[1;33m\u001b[0m\u001b[1;33m\u001b[0m\u001b[0m\n\u001b[1;32m---> 23\u001b[1;33m             \u001b[0mkml_obj\u001b[0m\u001b[1;33m.\u001b[0m\u001b[0mfrom_string\u001b[0m\u001b[1;33m(\u001b[0m\u001b[0mkml_file\u001b[0m\u001b[1;33m.\u001b[0m\u001b[0mread\u001b[0m\u001b[1;33m(\u001b[0m\u001b[1;33m)\u001b[0m\u001b[1;33m)\u001b[0m\u001b[1;33m\u001b[0m\u001b[1;33m\u001b[0m\u001b[0m\n\u001b[0m\u001b[0;32m     24\u001b[0m \u001b[1;33m\u001b[0m\u001b[0m\n\u001b[0;32m     25\u001b[0m         \u001b[0mdocument\u001b[0m \u001b[1;33m=\u001b[0m \u001b[0mlist\u001b[0m\u001b[1;33m(\u001b[0m\u001b[0mkml_obj\u001b[0m\u001b[1;33m.\u001b[0m\u001b[0mfeatures\u001b[0m\u001b[1;33m(\u001b[0m\u001b[1;33m)\u001b[0m\u001b[1;33m)\u001b[0m\u001b[1;33m[\u001b[0m\u001b[1;36m0\u001b[0m\u001b[1;33m]\u001b[0m\u001b[1;33m\u001b[0m\u001b[1;33m\u001b[0m\u001b[0m\n",
      "\u001b[1;32m~\\anaconda3\\lib\\site-packages\\fastkml\\kml.py\u001b[0m in \u001b[0;36mfrom_string\u001b[1;34m(self, xml_string)\u001b[0m\n\u001b[0;32m     89\u001b[0m             element = etree.fromstring(\n\u001b[0;32m     90\u001b[0m                 \u001b[0mxml_string\u001b[0m\u001b[1;33m,\u001b[0m\u001b[1;33m\u001b[0m\u001b[1;33m\u001b[0m\u001b[0m\n\u001b[1;32m---> 91\u001b[1;33m                 \u001b[0mparser\u001b[0m\u001b[1;33m=\u001b[0m\u001b[0metree\u001b[0m\u001b[1;33m.\u001b[0m\u001b[0mXMLParser\u001b[0m\u001b[1;33m(\u001b[0m\u001b[0mhuge_tree\u001b[0m\u001b[1;33m=\u001b[0m\u001b[1;32mTrue\u001b[0m\u001b[1;33m)\u001b[0m\u001b[1;33m\u001b[0m\u001b[1;33m\u001b[0m\u001b[0m\n\u001b[0m\u001b[0;32m     92\u001b[0m             )\n\u001b[0;32m     93\u001b[0m         \u001b[1;32melse\u001b[0m\u001b[1;33m:\u001b[0m\u001b[1;33m\u001b[0m\u001b[1;33m\u001b[0m\u001b[0m\n",
      "\u001b[1;32msrc/lxml/etree.pyx\u001b[0m in \u001b[0;36mlxml.etree.fromstring\u001b[1;34m()\u001b[0m\n",
      "\u001b[1;32msrc/lxml/parser.pxi\u001b[0m in \u001b[0;36mlxml.etree._parseMemoryDocument\u001b[1;34m()\u001b[0m\n",
      "\u001b[1;31mValueError\u001b[0m: Unicode strings with encoding declaration are not supported. Please use bytes input or XML fragments without declaration."
     ]
    }
   ],
   "source": [
    "test_chicago_city()"
   ]
  },
  {
   "cell_type": "code",
   "execution_count": 4,
   "metadata": {},
   "outputs": [
    {
     "ename": "NameError",
     "evalue": "name 'chicago_map' is not defined",
     "output_type": "error",
     "traceback": [
      "\u001b[1;31m---------------------------------------------------------------------------\u001b[0m",
      "\u001b[1;31mNameError\u001b[0m                                 Traceback (most recent call last)",
      "\u001b[1;32m<ipython-input-4-c8b728344801>\u001b[0m in \u001b[0;36m<module>\u001b[1;34m\u001b[0m\n\u001b[1;32m----> 1\u001b[1;33m \u001b[0mchicago_map\u001b[0m\u001b[1;33m.\u001b[0m\u001b[0mget_neighborhoods\u001b[0m\u001b[1;33m(\u001b[0m\u001b[1;36m41.927299\u001b[0m\u001b[1;33m,\u001b[0m \u001b[1;33m-\u001b[0m\u001b[1;36m87.646270\u001b[0m\u001b[1;33m)\u001b[0m\u001b[1;33m\u001b[0m\u001b[1;33m\u001b[0m\u001b[0m\n\u001b[0m",
      "\u001b[1;31mNameError\u001b[0m: name 'chicago_map' is not defined"
     ]
    }
   ],
   "source": [
    "chicago_map.get_neighborhoods(41.927299, -87.646270)"
   ]
  },
  {
   "cell_type": "code",
   "execution_count": 1,
   "metadata": {},
   "outputs": [
    {
     "data": {
      "text/plain": [
       "['Loop']"
      ]
     },
     "execution_count": 1,
     "metadata": {},
     "output_type": "execute_result"
    }
   ],
   "source": [
    "import neighborhoodize\n",
    "\n",
    "hood_map = neighborhoodize.NeighborhoodMap(neighborhoodize.zillow.ILLINOIS)\n",
    "\n",
    "hood_map.get_neighborhoods(41.879617, -87.633463)"
   ]
  },
  {
   "cell_type": "code",
   "execution_count": null,
   "metadata": {},
   "outputs": [],
   "source": []
  }
 ],
 "metadata": {
  "kernelspec": {
   "display_name": "Python 3",
   "language": "python",
   "name": "python3"
  },
  "language_info": {
   "codemirror_mode": {
    "name": "ipython",
    "version": 3
   },
   "file_extension": ".py",
   "mimetype": "text/x-python",
   "name": "python",
   "nbconvert_exporter": "python",
   "pygments_lexer": "ipython3",
   "version": "3.7.7"
  }
 },
 "nbformat": 4,
 "nbformat_minor": 4
}
